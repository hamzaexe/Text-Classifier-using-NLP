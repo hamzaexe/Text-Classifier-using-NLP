{
  "nbformat": 4,
  "nbformat_minor": 0,
  "metadata": {
    "kernelspec": {
      "display_name": "Python 3",
      "language": "python",
      "name": "python3"
    },
    "language_info": {
      "codemirror_mode": {
        "name": "ipython",
        "version": 3
      },
      "file_extension": ".py",
      "mimetype": "text/x-python",
      "name": "python",
      "nbconvert_exporter": "python",
      "pygments_lexer": "ipython3",
      "version": "3.7.3"
    },
    "colab": {
      "name": "CA2-Q2.ipynb",
      "provenance": [],
      "collapsed_sections": [],
      "toc_visible": true
    }
  },
  "cells": [
    {
      "cell_type": "code",
      "metadata": {
        "id": "EvaZ55ICN8wE",
        "colab_type": "code",
        "colab": {}
      },
      "source": [
        "import pandas as pd"
      ],
      "execution_count": 0,
      "outputs": []
    },
    {
      "cell_type": "code",
      "metadata": {
        "id": "0MkjSoAwN8wK",
        "colab_type": "code",
        "colab": {}
      },
      "source": [
        "file = pd.read_csv('quora_supervised.csv')"
      ],
      "execution_count": 0,
      "outputs": []
    },
    {
      "cell_type": "code",
      "metadata": {
        "id": "zZ_hG8-aN8wO",
        "colab_type": "code",
        "outputId": "ac015fe7-2046-4f65-96f6-d550fc058c8d",
        "colab": {
          "base_uri": "https://localhost:8080/",
          "height": 204
        }
      },
      "source": [
        "file.head()"
      ],
      "execution_count": 3,
      "outputs": [
        {
          "output_type": "execute_result",
          "data": {
            "text/html": [
              "<div>\n",
              "<style scoped>\n",
              "    .dataframe tbody tr th:only-of-type {\n",
              "        vertical-align: middle;\n",
              "    }\n",
              "\n",
              "    .dataframe tbody tr th {\n",
              "        vertical-align: top;\n",
              "    }\n",
              "\n",
              "    .dataframe thead th {\n",
              "        text-align: right;\n",
              "    }\n",
              "</style>\n",
              "<table border=\"1\" class=\"dataframe\">\n",
              "  <thead>\n",
              "    <tr style=\"text-align: right;\">\n",
              "      <th></th>\n",
              "      <th>Unnamed: 0</th>\n",
              "      <th>questions</th>\n",
              "      <th>Topic number</th>\n",
              "      <th>Topic desc</th>\n",
              "    </tr>\n",
              "  </thead>\n",
              "  <tbody>\n",
              "    <tr>\n",
              "      <th>0</th>\n",
              "      <td>0</td>\n",
              "      <td>What is the step by step guide to invest in sh...</td>\n",
              "      <td>5</td>\n",
              "      <td>Education, Schools, and Learning</td>\n",
              "    </tr>\n",
              "    <tr>\n",
              "      <th>1</th>\n",
              "      <td>1</td>\n",
              "      <td>What is the story of Kohinoor (Koh-i-Noor) Dia...</td>\n",
              "      <td>0</td>\n",
              "      <td>Politics, Law, Government, and Judiciary</td>\n",
              "    </tr>\n",
              "    <tr>\n",
              "      <th>2</th>\n",
              "      <td>2</td>\n",
              "      <td>How can I increase the speed of my internet co...</td>\n",
              "      <td>3</td>\n",
              "      <td>Humanities</td>\n",
              "    </tr>\n",
              "    <tr>\n",
              "      <th>3</th>\n",
              "      <td>3</td>\n",
              "      <td>Why am I mentally very lonely? How can I solve...</td>\n",
              "      <td>9</td>\n",
              "      <td>Medicine and Healthcare</td>\n",
              "    </tr>\n",
              "    <tr>\n",
              "      <th>4</th>\n",
              "      <td>4</td>\n",
              "      <td>Which one dissolve in water quikly sugar, salt...</td>\n",
              "      <td>1</td>\n",
              "      <td>Science, Technology, Engineering, and Mathematics</td>\n",
              "    </tr>\n",
              "  </tbody>\n",
              "</table>\n",
              "</div>"
            ],
            "text/plain": [
              "   Unnamed: 0  ...                                         Topic desc\n",
              "0           0  ...                   Education, Schools, and Learning\n",
              "1           1  ...           Politics, Law, Government, and Judiciary\n",
              "2           2  ...                                         Humanities\n",
              "3           3  ...                            Medicine and Healthcare\n",
              "4           4  ...  Science, Technology, Engineering, and Mathematics\n",
              "\n",
              "[5 rows x 4 columns]"
            ]
          },
          "metadata": {
            "tags": []
          },
          "execution_count": 3
        }
      ]
    },
    {
      "cell_type": "code",
      "metadata": {
        "id": "hedIWVImN8wT",
        "colab_type": "code",
        "outputId": "08fac7ab-59db-46d3-a1cf-45e071768c17",
        "colab": {
          "base_uri": "https://localhost:8080/",
          "height": 204
        }
      },
      "source": [
        "file['Topic number'].value_counts()"
      ],
      "execution_count": 4,
      "outputs": [
        {
          "output_type": "execute_result",
          "data": {
            "text/plain": [
              "9    43295\n",
              "8    27587\n",
              "0    24339\n",
              "5    23906\n",
              "1    23888\n",
              "7    13341\n",
              "6    12337\n",
              "3    10898\n",
              "2    10490\n",
              "4     9919\n",
              "Name: Topic number, dtype: int64"
            ]
          },
          "metadata": {
            "tags": []
          },
          "execution_count": 4
        }
      ]
    },
    {
      "cell_type": "code",
      "metadata": {
        "id": "C_k8pfEVN8wX",
        "colab_type": "code",
        "outputId": "e21027c7-aa02-4cf6-c00a-0febcb4fe8c2",
        "colab": {
          "base_uri": "https://localhost:8080/",
          "height": 359
        }
      },
      "source": [
        "file.sample(10)"
      ],
      "execution_count": 5,
      "outputs": [
        {
          "output_type": "execute_result",
          "data": {
            "text/html": [
              "<div>\n",
              "<style scoped>\n",
              "    .dataframe tbody tr th:only-of-type {\n",
              "        vertical-align: middle;\n",
              "    }\n",
              "\n",
              "    .dataframe tbody tr th {\n",
              "        vertical-align: top;\n",
              "    }\n",
              "\n",
              "    .dataframe thead th {\n",
              "        text-align: right;\n",
              "    }\n",
              "</style>\n",
              "<table border=\"1\" class=\"dataframe\">\n",
              "  <thead>\n",
              "    <tr style=\"text-align: right;\">\n",
              "      <th></th>\n",
              "      <th>Unnamed: 0</th>\n",
              "      <th>questions</th>\n",
              "      <th>Topic number</th>\n",
              "      <th>Topic desc</th>\n",
              "    </tr>\n",
              "  </thead>\n",
              "  <tbody>\n",
              "    <tr>\n",
              "      <th>140011</th>\n",
              "      <td>140011</td>\n",
              "      <td>What are some of the FDA approved multivitamins?</td>\n",
              "      <td>1</td>\n",
              "      <td>Science, Technology, Engineering, and Mathematics</td>\n",
              "    </tr>\n",
              "    <tr>\n",
              "      <th>17679</th>\n",
              "      <td>17679</td>\n",
              "      <td>How can someone hack my Quora account?</td>\n",
              "      <td>2</td>\n",
              "      <td>Life, Relationships, and Self</td>\n",
              "    </tr>\n",
              "    <tr>\n",
              "      <th>24427</th>\n",
              "      <td>24427</td>\n",
              "      <td>Why do people book expensive hotels when hoste...</td>\n",
              "      <td>9</td>\n",
              "      <td>Medicine and Healthcare</td>\n",
              "    </tr>\n",
              "    <tr>\n",
              "      <th>177324</th>\n",
              "      <td>177324</td>\n",
              "      <td>What If India Scraps Indus Water Treaty Unilat...</td>\n",
              "      <td>5</td>\n",
              "      <td>Education, Schools, and Learning</td>\n",
              "    </tr>\n",
              "    <tr>\n",
              "      <th>52130</th>\n",
              "      <td>52130</td>\n",
              "      <td>Why do I fantasize about violence against myse...</td>\n",
              "      <td>5</td>\n",
              "      <td>Education, Schools, and Learning</td>\n",
              "    </tr>\n",
              "    <tr>\n",
              "      <th>47762</th>\n",
              "      <td>47762</td>\n",
              "      <td>Why do some people eat raw eggs? Are they not ...</td>\n",
              "      <td>9</td>\n",
              "      <td>Medicine and Healthcare</td>\n",
              "    </tr>\n",
              "    <tr>\n",
              "      <th>28383</th>\n",
              "      <td>28383</td>\n",
              "      <td>How do I learn and progress in Web Development?</td>\n",
              "      <td>6</td>\n",
              "      <td>horoscopes</td>\n",
              "    </tr>\n",
              "    <tr>\n",
              "      <th>193267</th>\n",
              "      <td>193267</td>\n",
              "      <td>Is it possible to get a permanent bruise?</td>\n",
              "      <td>9</td>\n",
              "      <td>Medicine and Healthcare</td>\n",
              "    </tr>\n",
              "    <tr>\n",
              "      <th>25420</th>\n",
              "      <td>25420</td>\n",
              "      <td>What is the difference between have and have b...</td>\n",
              "      <td>9</td>\n",
              "      <td>Medicine and Healthcare</td>\n",
              "    </tr>\n",
              "    <tr>\n",
              "      <th>160795</th>\n",
              "      <td>160795</td>\n",
              "      <td>How much do Uber drivers get paid?</td>\n",
              "      <td>3</td>\n",
              "      <td>Humanities</td>\n",
              "    </tr>\n",
              "  </tbody>\n",
              "</table>\n",
              "</div>"
            ],
            "text/plain": [
              "        Unnamed: 0  ...                                         Topic desc\n",
              "140011      140011  ...  Science, Technology, Engineering, and Mathematics\n",
              "17679        17679  ...                      Life, Relationships, and Self\n",
              "24427        24427  ...                            Medicine and Healthcare\n",
              "177324      177324  ...                   Education, Schools, and Learning\n",
              "52130        52130  ...                   Education, Schools, and Learning\n",
              "47762        47762  ...                            Medicine and Healthcare\n",
              "28383        28383  ...                                         horoscopes\n",
              "193267      193267  ...                            Medicine and Healthcare\n",
              "25420        25420  ...                            Medicine and Healthcare\n",
              "160795      160795  ...                                         Humanities\n",
              "\n",
              "[10 rows x 4 columns]"
            ]
          },
          "metadata": {
            "tags": []
          },
          "execution_count": 5
        }
      ]
    },
    {
      "cell_type": "markdown",
      "metadata": {
        "id": "V2GFFJ88N8wa",
        "colab_type": "text"
      },
      "source": [
        "### Pre-processing the dataset"
      ]
    },
    {
      "cell_type": "code",
      "metadata": {
        "id": "fwr0OZU1N8wb",
        "colab_type": "code",
        "colab": {}
      },
      "source": [
        "# Splitting the data into train and test\n",
        "\n",
        "from sklearn.model_selection import train_test_split \n",
        "X = file['questions']\n",
        "y = file['Topic number']\n",
        "X_train, X_test, y_train, y_test = train_test_split(X, y, test_size = 0.2, random_state = 1)"
      ],
      "execution_count": 0,
      "outputs": []
    },
    {
      "cell_type": "code",
      "metadata": {
        "id": "k4Oc1NICN8wf",
        "colab_type": "code",
        "outputId": "1011ac9e-91bb-4256-e9c2-7108285a4df4",
        "colab": {
          "base_uri": "https://localhost:8080/",
          "height": 34
        }
      },
      "source": [
        "type(X_test)"
      ],
      "execution_count": 7,
      "outputs": [
        {
          "output_type": "execute_result",
          "data": {
            "text/plain": [
              "pandas.core.series.Series"
            ]
          },
          "metadata": {
            "tags": []
          },
          "execution_count": 7
        }
      ]
    },
    {
      "cell_type": "code",
      "metadata": {
        "id": "53BEAxluN8wj",
        "colab_type": "code",
        "outputId": "c8cb80a9-4f0e-470a-a13d-805deea4ad85",
        "colab": {
          "base_uri": "https://localhost:8080/",
          "height": 34
        }
      },
      "source": [
        "# Vectorizing the string data into numerical data\n",
        "\n",
        "from sklearn.feature_extraction.text import TfidfVectorizer\n",
        "vectorizer = TfidfVectorizer()\n",
        "\n",
        "train_vectors = vectorizer.fit_transform(X_train)\n",
        "#test_vectors = vectorizer.fit_transform(X_test)\n",
        "test_vectors = vectorizer.transform(X_test)\n",
        "print(train_vectors.shape, test_vectors.shape)"
      ],
      "execution_count": 8,
      "outputs": [
        {
          "output_type": "stream",
          "text": [
            "(160000, 45994) (40000, 45994)\n"
          ],
          "name": "stdout"
        }
      ]
    },
    {
      "cell_type": "markdown",
      "metadata": {
        "id": "UlXqhOe8N8wn",
        "colab_type": "text"
      },
      "source": [
        "### Logistic Regression"
      ]
    },
    {
      "cell_type": "code",
      "metadata": {
        "id": "gAb-KhlZN8wn",
        "colab_type": "code",
        "outputId": "ff24bbb9-f60c-4bd8-8e98-dc7d8ef6f659",
        "colab": {
          "base_uri": "https://localhost:8080/",
          "height": 238
        }
      },
      "source": [
        "# Logistic Regression\n",
        "from sklearn.linear_model import LogisticRegression\n",
        "\n",
        "lin_reg_model = LogisticRegression(solver = 'lbfgs')\n",
        "lin_reg_model.fit(train_vectors, y_train)"
      ],
      "execution_count": 9,
      "outputs": [
        {
          "output_type": "stream",
          "text": [
            "/usr/local/lib/python3.6/dist-packages/sklearn/linear_model/_logistic.py:940: ConvergenceWarning: lbfgs failed to converge (status=1):\n",
            "STOP: TOTAL NO. of ITERATIONS REACHED LIMIT.\n",
            "\n",
            "Increase the number of iterations (max_iter) or scale the data as shown in:\n",
            "    https://scikit-learn.org/stable/modules/preprocessing.html\n",
            "Please also refer to the documentation for alternative solver options:\n",
            "    https://scikit-learn.org/stable/modules/linear_model.html#logistic-regression\n",
            "  extra_warning_msg=_LOGISTIC_SOLVER_CONVERGENCE_MSG)\n"
          ],
          "name": "stderr"
        },
        {
          "output_type": "execute_result",
          "data": {
            "text/plain": [
              "LogisticRegression(C=1.0, class_weight=None, dual=False, fit_intercept=True,\n",
              "                   intercept_scaling=1, l1_ratio=None, max_iter=100,\n",
              "                   multi_class='auto', n_jobs=None, penalty='l2',\n",
              "                   random_state=None, solver='lbfgs', tol=0.0001, verbose=0,\n",
              "                   warm_start=False)"
            ]
          },
          "metadata": {
            "tags": []
          },
          "execution_count": 9
        }
      ]
    },
    {
      "cell_type": "code",
      "metadata": {
        "id": "F5lfk1HxN8wr",
        "colab_type": "code",
        "colab": {}
      },
      "source": [
        "# Test Accuracy\n",
        "\n",
        "from sklearn import metrics\n",
        "lin_reg_model_predictions = lin_reg_model.predict(test_vectors)"
      ],
      "execution_count": 0,
      "outputs": []
    },
    {
      "cell_type": "code",
      "metadata": {
        "id": "A35oKhvNN8ww",
        "colab_type": "code",
        "outputId": "6e6eb40b-e049-4a5b-ca17-9be31bdb5374",
        "colab": {
          "base_uri": "https://localhost:8080/",
          "height": 34
        }
      },
      "source": [
        "lin_reg_model_predictions"
      ],
      "execution_count": 11,
      "outputs": [
        {
          "output_type": "execute_result",
          "data": {
            "text/plain": [
              "array([8, 4, 6, ..., 9, 0, 4])"
            ]
          },
          "metadata": {
            "tags": []
          },
          "execution_count": 11
        }
      ]
    },
    {
      "cell_type": "code",
      "metadata": {
        "id": "0Qd-9pnXN8w1",
        "colab_type": "code",
        "outputId": "9b690400-d8e9-4c12-c48e-ef35c5d56004",
        "colab": {
          "base_uri": "https://localhost:8080/",
          "height": 187
        }
      },
      "source": [
        "print(metrics.confusion_matrix(y_test, lin_reg_model_predictions))"
      ],
      "execution_count": 12,
      "outputs": [
        {
          "output_type": "stream",
          "text": [
            "[[4396   39   15    8   13   58   30   10  131  171]\n",
            " [  30 4106   14   10   10   82   19   14  123  303]\n",
            " [  24   41 1786    5    9   31   16   16   87  133]\n",
            " [  36   42   18 1835    2   69    4    9   72  119]\n",
            " [  13   44    1    6 1688   48    9    8   54  133]\n",
            " [  42   67   13   25   15 4193   18   16  110  305]\n",
            " [  26   37   19    8    5   40 2102   15  102  142]\n",
            " [  22   38    5    2   11   76    8 2280   43  170]\n",
            " [  65   85   13   17   21  113   31    7 4800  266]\n",
            " [  55   89   37   10   30  137   25   40  133 8131]]\n"
          ],
          "name": "stdout"
        }
      ]
    },
    {
      "cell_type": "code",
      "metadata": {
        "id": "1T5b5XpNN8w6",
        "colab_type": "code",
        "outputId": "1326e6f8-49c0-441d-ce42-d593dc60b8e2",
        "colab": {
          "base_uri": "https://localhost:8080/",
          "height": 34
        }
      },
      "source": [
        "print(metrics.accuracy_score(y_test,lin_reg_model_predictions))"
      ],
      "execution_count": 13,
      "outputs": [
        {
          "output_type": "stream",
          "text": [
            "0.882925\n"
          ],
          "name": "stdout"
        }
      ]
    },
    {
      "cell_type": "code",
      "metadata": {
        "id": "DaQx_-LtN8w9",
        "colab_type": "code",
        "outputId": "c7c4b2de-fa40-4d7c-e094-dd0e60cfc38d",
        "colab": {
          "base_uri": "https://localhost:8080/",
          "height": 306
        }
      },
      "source": [
        "print(metrics.classification_report(y_test, lin_reg_model_predictions))"
      ],
      "execution_count": 14,
      "outputs": [
        {
          "output_type": "stream",
          "text": [
            "              precision    recall  f1-score   support\n",
            "\n",
            "           0       0.93      0.90      0.92      4871\n",
            "           1       0.89      0.87      0.88      4711\n",
            "           2       0.93      0.83      0.88      2148\n",
            "           3       0.95      0.83      0.89      2206\n",
            "           4       0.94      0.84      0.89      2004\n",
            "           5       0.87      0.87      0.87      4804\n",
            "           6       0.93      0.84      0.88      2496\n",
            "           7       0.94      0.86      0.90      2655\n",
            "           8       0.85      0.89      0.87      5418\n",
            "           9       0.82      0.94      0.88      8687\n",
            "\n",
            "    accuracy                           0.88     40000\n",
            "   macro avg       0.91      0.87      0.88     40000\n",
            "weighted avg       0.89      0.88      0.88     40000\n",
            "\n"
          ],
          "name": "stdout"
        }
      ]
    },
    {
      "cell_type": "markdown",
      "metadata": {
        "id": "RkS1zXqwE1c3",
        "colab_type": "text"
      },
      "source": [
        "logistic regression give us the accuracy of 88 percent."
      ]
    },
    {
      "cell_type": "markdown",
      "metadata": {
        "id": "ngi--5CjN8xP",
        "colab_type": "text"
      },
      "source": [
        "### Random Forest"
      ]
    },
    {
      "cell_type": "code",
      "metadata": {
        "id": "6PxpHfRtN8xP",
        "colab_type": "code",
        "outputId": "364855db-7dbc-46d1-e8e4-b2e24f785400",
        "colab": {
          "base_uri": "https://localhost:8080/",
          "height": 153
        }
      },
      "source": [
        "# Random Forrest\n",
        "\n",
        "# Step 1: Import the model\n",
        "from sklearn.ensemble import RandomForestClassifier \n",
        "\n",
        "# Step 2: Create an instance of the model\n",
        "RFC_model = RandomForestClassifier()\n",
        "\n",
        "# Step 3: Build the model and fit the data\n",
        "RFC_model.fit(train_vectors, y_train)"
      ],
      "execution_count": 15,
      "outputs": [
        {
          "output_type": "execute_result",
          "data": {
            "text/plain": [
              "RandomForestClassifier(bootstrap=True, ccp_alpha=0.0, class_weight=None,\n",
              "                       criterion='gini', max_depth=None, max_features='auto',\n",
              "                       max_leaf_nodes=None, max_samples=None,\n",
              "                       min_impurity_decrease=0.0, min_impurity_split=None,\n",
              "                       min_samples_leaf=1, min_samples_split=2,\n",
              "                       min_weight_fraction_leaf=0.0, n_estimators=100,\n",
              "                       n_jobs=None, oob_score=False, random_state=None,\n",
              "                       verbose=0, warm_start=False)"
            ]
          },
          "metadata": {
            "tags": []
          },
          "execution_count": 15
        }
      ]
    },
    {
      "cell_type": "code",
      "metadata": {
        "id": "YbDWEMhQIBeK",
        "colab_type": "code",
        "colab": {}
      },
      "source": [
        "RFC_model_predictions = RFC_model.predict(test_vectors)"
      ],
      "execution_count": 0,
      "outputs": []
    },
    {
      "cell_type": "code",
      "metadata": {
        "id": "mP8_hu39ID2j",
        "colab_type": "code",
        "colab": {
          "base_uri": "https://localhost:8080/",
          "height": 34
        },
        "outputId": "98f1ab11-ebec-4ad5-bc21-89f9ee893b0b"
      },
      "source": [
        "print(metrics.accuracy_score(y_test,RFC_model_predictions))"
      ],
      "execution_count": 46,
      "outputs": [
        {
          "output_type": "stream",
          "text": [
            "0.84945\n"
          ],
          "name": "stdout"
        }
      ]
    },
    {
      "cell_type": "markdown",
      "metadata": {
        "id": "MdJ00jUMIJnr",
        "colab_type": "text"
      },
      "source": [
        "Random Forest gives us the accuracy of 88 percent."
      ]
    },
    {
      "cell_type": "markdown",
      "metadata": {
        "id": "59pVK9_IN8xS",
        "colab_type": "text"
      },
      "source": [
        "### Naive Bayes"
      ]
    },
    {
      "cell_type": "code",
      "metadata": {
        "id": "OyoJFEx0N8xT",
        "colab_type": "code",
        "outputId": "b517ada4-f3a8-4ac3-c3af-356ead7b0cf4",
        "colab": {
          "base_uri": "https://localhost:8080/",
          "height": 34
        }
      },
      "source": [
        "# Naive Bayes\n",
        "\n",
        "# Step 1: Import the model\n",
        "from sklearn.naive_bayes import MultinomialNB\n",
        "\n",
        "# Step 2: Create an instance of the model\n",
        "nb_model = MultinomialNB()\n",
        "\n",
        "# Step 3: Build the model and fit the data\n",
        "nb_model.fit(train_vectors, y_train)"
      ],
      "execution_count": 17,
      "outputs": [
        {
          "output_type": "execute_result",
          "data": {
            "text/plain": [
              "MultinomialNB(alpha=1.0, class_prior=None, fit_prior=True)"
            ]
          },
          "metadata": {
            "tags": []
          },
          "execution_count": 17
        }
      ]
    },
    {
      "cell_type": "code",
      "metadata": {
        "id": "6bkGzBSTFb-d",
        "colab_type": "code",
        "colab": {}
      },
      "source": [
        "nb_model_predictions = nb_model.predict(test_vectors)"
      ],
      "execution_count": 0,
      "outputs": []
    },
    {
      "cell_type": "code",
      "metadata": {
        "id": "LiZdI7AoFcCF",
        "colab_type": "code",
        "colab": {
          "base_uri": "https://localhost:8080/",
          "height": 34
        },
        "outputId": "640fcd28-72af-4524-c026-64673b7eeadd"
      },
      "source": [
        "print(metrics.accuracy_score(y_test,nb_model_predictions))"
      ],
      "execution_count": 19,
      "outputs": [
        {
          "output_type": "stream",
          "text": [
            "0.6557\n"
          ],
          "name": "stdout"
        }
      ]
    },
    {
      "cell_type": "markdown",
      "metadata": {
        "id": "jReUQ8fBIUa6",
        "colab_type": "text"
      },
      "source": [
        "Naive Bayes gives us the lowest accuracy against all models"
      ]
    },
    {
      "cell_type": "code",
      "metadata": {
        "id": "axD9xCpbFcEF",
        "colab_type": "code",
        "colab": {
          "base_uri": "https://localhost:8080/",
          "height": 306
        },
        "outputId": "902a2ed6-faaa-4af9-e3a9-3dca80cd838f"
      },
      "source": [
        "print(metrics.classification_report(y_test, nb_model_predictions))"
      ],
      "execution_count": 20,
      "outputs": [
        {
          "output_type": "stream",
          "text": [
            "              precision    recall  f1-score   support\n",
            "\n",
            "           0       0.72      0.72      0.72      4871\n",
            "           1       0.79      0.61      0.69      4711\n",
            "           2       0.95      0.44      0.60      2148\n",
            "           3       0.94      0.32      0.48      2206\n",
            "           4       0.96      0.31      0.47      2004\n",
            "           5       0.72      0.66      0.69      4804\n",
            "           6       0.90      0.52      0.66      2496\n",
            "           7       0.90      0.44      0.59      2655\n",
            "           8       0.64      0.72      0.68      5418\n",
            "           9       0.51      0.92      0.65      8687\n",
            "\n",
            "    accuracy                           0.66     40000\n",
            "   macro avg       0.80      0.57      0.62     40000\n",
            "weighted avg       0.73      0.66      0.65     40000\n",
            "\n"
          ],
          "name": "stdout"
        }
      ]
    },
    {
      "cell_type": "markdown",
      "metadata": {
        "id": "1eANtCRhIccT",
        "colab_type": "text"
      },
      "source": [
        "As from the results we know that logistic regression has highest accuracy so we test it out by giving it sample questions"
      ]
    },
    {
      "cell_type": "code",
      "metadata": {
        "id": "h3dg-N0gFxaM",
        "colab_type": "code",
        "colab": {
          "base_uri": "https://localhost:8080/",
          "height": 51
        },
        "outputId": "2627aa25-77b6-4507-d6eb-6ad1d7c3202f"
      },
      "source": [
        "sample_questions = test_vectors[3]\n",
        "test_vectors[2]"
      ],
      "execution_count": 25,
      "outputs": [
        {
          "output_type": "execute_result",
          "data": {
            "text/plain": [
              "<1x45994 sparse matrix of type '<class 'numpy.float64'>'\n",
              "\twith 10 stored elements in Compressed Sparse Row format>"
            ]
          },
          "metadata": {
            "tags": []
          },
          "execution_count": 25
        }
      ]
    },
    {
      "cell_type": "code",
      "metadata": {
        "id": "5pR_j1VvFcJK",
        "colab_type": "code",
        "colab": {
          "base_uri": "https://localhost:8080/",
          "height": 80
        },
        "outputId": "8954a098-44f6-41b0-ef02-ec9b03ab685c"
      },
      "source": [
        "model_predictions = lin_reg_model.predict(sample_questions)\n",
        "out_dataframe = pd.DataFrame(model_predictions)\n",
        "out_dataframe"
      ],
      "execution_count": 26,
      "outputs": [
        {
          "output_type": "execute_result",
          "data": {
            "text/html": [
              "<div>\n",
              "<style scoped>\n",
              "    .dataframe tbody tr th:only-of-type {\n",
              "        vertical-align: middle;\n",
              "    }\n",
              "\n",
              "    .dataframe tbody tr th {\n",
              "        vertical-align: top;\n",
              "    }\n",
              "\n",
              "    .dataframe thead th {\n",
              "        text-align: right;\n",
              "    }\n",
              "</style>\n",
              "<table border=\"1\" class=\"dataframe\">\n",
              "  <thead>\n",
              "    <tr style=\"text-align: right;\">\n",
              "      <th></th>\n",
              "      <th>0</th>\n",
              "    </tr>\n",
              "  </thead>\n",
              "  <tbody>\n",
              "    <tr>\n",
              "      <th>0</th>\n",
              "      <td>9</td>\n",
              "    </tr>\n",
              "  </tbody>\n",
              "</table>\n",
              "</div>"
            ],
            "text/plain": [
              "   0\n",
              "0  9"
            ]
          },
          "metadata": {
            "tags": []
          },
          "execution_count": 26
        }
      ]
    },
    {
      "cell_type": "markdown",
      "metadata": {
        "id": "Sq02zX3mF4ne",
        "colab_type": "text"
      },
      "source": [
        "**Choosing 10 random questions**"
      ]
    },
    {
      "cell_type": "code",
      "metadata": {
        "id": "B1O2Q29EFcL5",
        "colab_type": "code",
        "colab": {
          "base_uri": "https://localhost:8080/",
          "height": 204
        },
        "outputId": "b686f2cb-8f23-432d-d307-73088d086ee7"
      },
      "source": [
        "sample_question = X_train.sample(10)\n",
        "sample_question"
      ],
      "execution_count": 27,
      "outputs": [
        {
          "output_type": "execute_result",
          "data": {
            "text/plain": [
              "148099    What will be the effects of demonitizing 500 a...\n",
              "16512                                Why is NASCAR a sport?\n",
              "14884     What's your view on the infamous Jayalalitha S...\n",
              "169255        Should people over 94 not be allowed to vote?\n",
              "187649           What's the latest trend for SEO this 2014?\n",
              "161680    What were the major effects of the cambodia ea...\n",
              "43258          Do virtual particles in vacuum really exist?\n",
              "185017    What is the salary scenario in pharmacovigilan...\n",
              "11887     Do all national servicemen in Singapore have t...\n",
              "37895      What is the best way to learn computer language?\n",
              "Name: questions, dtype: object"
            ]
          },
          "metadata": {
            "tags": []
          },
          "execution_count": 27
        }
      ]
    },
    {
      "cell_type": "code",
      "metadata": {
        "id": "rxJskiEbFcHG",
        "colab_type": "code",
        "colab": {}
      },
      "source": [
        "vector_samples = vectorizer.transform(sample_question)"
      ],
      "execution_count": 0,
      "outputs": []
    },
    {
      "cell_type": "code",
      "metadata": {
        "id": "MyTdOBtUGW73",
        "colab_type": "code",
        "colab": {}
      },
      "source": [
        "sample_predictions = lin_reg_model.predict(vector_samples)# we use linear regression bcz it has high accuracy than anyother model"
      ],
      "execution_count": 0,
      "outputs": []
    },
    {
      "cell_type": "code",
      "metadata": {
        "id": "dM-OB4q8GXHh",
        "colab_type": "code",
        "colab": {}
      },
      "source": [
        "out_dataframe = pd.DataFrame(sample_predictions,sample_question)"
      ],
      "execution_count": 0,
      "outputs": []
    },
    {
      "cell_type": "code",
      "metadata": {
        "id": "SAOfwPYcGXKl",
        "colab_type": "code",
        "colab": {
          "base_uri": "https://localhost:8080/",
          "height": 390
        },
        "outputId": "d3a7d0d1-3e68-443b-e1b6-e958e1a961cf"
      },
      "source": [
        "topic_list = { 0 : 'Technology',\n",
        "               1 : 'News',\n",
        "               2 : 'Culture',\n",
        "               3 : 'Work Life',\n",
        "               4 : 'Internet',\n",
        "               5 : 'Goverment',\n",
        "               6 : 'Education',\n",
        "               7 : 'Relationship',\n",
        "               8 : 'Politics',\n",
        "               9 : 'Self-Help'}\n",
        "\n",
        "topic_num_to_list = out_dataframe[0].map(topic_list)\n",
        "\n",
        "out_dataframe['Topic'] = topic_num_to_list\n",
        "\n",
        "out_dataframe"
      ],
      "execution_count": 34,
      "outputs": [
        {
          "output_type": "execute_result",
          "data": {
            "text/html": [
              "<div>\n",
              "<style scoped>\n",
              "    .dataframe tbody tr th:only-of-type {\n",
              "        vertical-align: middle;\n",
              "    }\n",
              "\n",
              "    .dataframe tbody tr th {\n",
              "        vertical-align: top;\n",
              "    }\n",
              "\n",
              "    .dataframe thead th {\n",
              "        text-align: right;\n",
              "    }\n",
              "</style>\n",
              "<table border=\"1\" class=\"dataframe\">\n",
              "  <thead>\n",
              "    <tr style=\"text-align: right;\">\n",
              "      <th></th>\n",
              "      <th>0</th>\n",
              "      <th>Topic</th>\n",
              "    </tr>\n",
              "    <tr>\n",
              "      <th>questions</th>\n",
              "      <th></th>\n",
              "      <th></th>\n",
              "    </tr>\n",
              "  </thead>\n",
              "  <tbody>\n",
              "    <tr>\n",
              "      <th>What will be the effects of demonitizing 500 and 1000 rupees notes in Indian economy?</th>\n",
              "      <td>5</td>\n",
              "      <td>Goverment</td>\n",
              "    </tr>\n",
              "    <tr>\n",
              "      <th>Why is NASCAR a sport?</th>\n",
              "      <td>5</td>\n",
              "      <td>Goverment</td>\n",
              "    </tr>\n",
              "    <tr>\n",
              "      <th>What's your view on the infamous Jayalalitha Saree episode that took place in the Tamil Nadu assembly on March 25, 1989?</th>\n",
              "      <td>5</td>\n",
              "      <td>Goverment</td>\n",
              "    </tr>\n",
              "    <tr>\n",
              "      <th>Should people over 94 not be allowed to vote?</th>\n",
              "      <td>9</td>\n",
              "      <td>Self-Help</td>\n",
              "    </tr>\n",
              "    <tr>\n",
              "      <th>What's the latest trend for SEO this 2014?</th>\n",
              "      <td>0</td>\n",
              "      <td>Technology</td>\n",
              "    </tr>\n",
              "    <tr>\n",
              "      <th>What were the major effects of the cambodia earthquake, and how do these effects compare to the Peru earthquake in 1687?</th>\n",
              "      <td>5</td>\n",
              "      <td>Goverment</td>\n",
              "    </tr>\n",
              "    <tr>\n",
              "      <th>Do virtual particles in vacuum really exist?</th>\n",
              "      <td>9</td>\n",
              "      <td>Self-Help</td>\n",
              "    </tr>\n",
              "    <tr>\n",
              "      <th>What is the salary scenario in pharmacovigilance sector?</th>\n",
              "      <td>5</td>\n",
              "      <td>Goverment</td>\n",
              "    </tr>\n",
              "    <tr>\n",
              "      <th>Do all national servicemen in Singapore have to learn how to kill snakes and chickens personally during their Basic Military Training?</th>\n",
              "      <td>6</td>\n",
              "      <td>Education</td>\n",
              "    </tr>\n",
              "    <tr>\n",
              "      <th>What is the best way to learn computer language?</th>\n",
              "      <td>6</td>\n",
              "      <td>Education</td>\n",
              "    </tr>\n",
              "  </tbody>\n",
              "</table>\n",
              "</div>"
            ],
            "text/plain": [
              "                                                    0       Topic\n",
              "questions                                                        \n",
              "What will be the effects of demonitizing 500 an...  5   Goverment\n",
              "Why is NASCAR a sport?                              5   Goverment\n",
              "What's your view on the infamous Jayalalitha Sa...  5   Goverment\n",
              "Should people over 94 not be allowed to vote?       9   Self-Help\n",
              "What's the latest trend for SEO this 2014?          0  Technology\n",
              "What were the major effects of the cambodia ear...  5   Goverment\n",
              "Do virtual particles in vacuum really exist?        9   Self-Help\n",
              "What is the salary scenario in pharmacovigilanc...  5   Goverment\n",
              "Do all national servicemen in Singapore have to...  6   Education\n",
              "What is the best way to learn computer language?    6   Education"
            ]
          },
          "metadata": {
            "tags": []
          },
          "execution_count": 34
        }
      ]
    },
    {
      "cell_type": "code",
      "metadata": {
        "id": "_dne5KRZGXEw",
        "colab_type": "code",
        "colab": {}
      },
      "source": [
        ""
      ],
      "execution_count": 0,
      "outputs": []
    }
  ]
}
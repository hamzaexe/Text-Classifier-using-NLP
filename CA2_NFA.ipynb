{
  "nbformat": 4,
  "nbformat_minor": 0,
  "metadata": {
    "colab": {
      "name": "CA2-NFA",
      "provenance": [],
      "collapsed_sections": []
    },
    "kernelspec": {
      "name": "python3",
      "display_name": "Python 3"
    }
  },
  "cells": [
    {
      "cell_type": "markdown",
      "metadata": {
        "id": "tmTv6ko2BmQN",
        "colab_type": "text"
      },
      "source": [
        "In this notebook we use NFA for text calssification. it works on the proncipal of linear algebra."
      ]
    },
    {
      "cell_type": "code",
      "metadata": {
        "id": "MEClPA8TH6FG",
        "colab_type": "code",
        "colab": {}
      },
      "source": [
        "import os\n",
        "import pandas as pd"
      ],
      "execution_count": 0,
      "outputs": []
    },
    {
      "cell_type": "code",
      "metadata": {
        "id": "2zKV6_ekHvXi",
        "colab_type": "code",
        "colab": {}
      },
      "source": [
        "dataframe = pd.read_csv('quora_questions.csv', nrows=200000)\n",
        "dataframe.columns = [\"questions\"]"
      ],
      "execution_count": 0,
      "outputs": []
    },
    {
      "cell_type": "code",
      "metadata": {
        "id": "KAA6SdaEJJwT",
        "colab_type": "code",
        "colab": {
          "base_uri": "https://localhost:8080/",
          "height": 204
        },
        "outputId": "58b9c5a8-045e-44ff-cde5-abaef677e922"
      },
      "source": [
        "dataframe.head()"
      ],
      "execution_count": 141,
      "outputs": [
        {
          "output_type": "execute_result",
          "data": {
            "text/html": [
              "<div>\n",
              "<style scoped>\n",
              "    .dataframe tbody tr th:only-of-type {\n",
              "        vertical-align: middle;\n",
              "    }\n",
              "\n",
              "    .dataframe tbody tr th {\n",
              "        vertical-align: top;\n",
              "    }\n",
              "\n",
              "    .dataframe thead th {\n",
              "        text-align: right;\n",
              "    }\n",
              "</style>\n",
              "<table border=\"1\" class=\"dataframe\">\n",
              "  <thead>\n",
              "    <tr style=\"text-align: right;\">\n",
              "      <th></th>\n",
              "      <th>questions</th>\n",
              "    </tr>\n",
              "  </thead>\n",
              "  <tbody>\n",
              "    <tr>\n",
              "      <th>0</th>\n",
              "      <td>What is the step by step guide to invest in sh...</td>\n",
              "    </tr>\n",
              "    <tr>\n",
              "      <th>1</th>\n",
              "      <td>What is the story of Kohinoor (Koh-i-Noor) Dia...</td>\n",
              "    </tr>\n",
              "    <tr>\n",
              "      <th>2</th>\n",
              "      <td>How can I increase the speed of my internet co...</td>\n",
              "    </tr>\n",
              "    <tr>\n",
              "      <th>3</th>\n",
              "      <td>Why am I mentally very lonely? How can I solve...</td>\n",
              "    </tr>\n",
              "    <tr>\n",
              "      <th>4</th>\n",
              "      <td>Which one dissolve in water quikly sugar, salt...</td>\n",
              "    </tr>\n",
              "  </tbody>\n",
              "</table>\n",
              "</div>"
            ],
            "text/plain": [
              "                                           questions\n",
              "0  What is the step by step guide to invest in sh...\n",
              "1  What is the story of Kohinoor (Koh-i-Noor) Dia...\n",
              "2  How can I increase the speed of my internet co...\n",
              "3  Why am I mentally very lonely? How can I solve...\n",
              "4  Which one dissolve in water quikly sugar, salt..."
            ]
          },
          "metadata": {
            "tags": []
          },
          "execution_count": 141
        }
      ]
    },
    {
      "cell_type": "code",
      "metadata": {
        "id": "wYyNJSR8JJzf",
        "colab_type": "code",
        "colab": {}
      },
      "source": [
        "from sklearn.feature_extraction.text import TfidfVectorizer# to fit the NMF we use tfid"
      ],
      "execution_count": 0,
      "outputs": []
    },
    {
      "cell_type": "markdown",
      "metadata": {
        "id": "Wjc09dr4KBiT",
        "colab_type": "text"
      },
      "source": [
        "TFIDF measure the document according to how important a word to document in a coolection. it can also filtered out stop words. it works by multiplying the two metrics"
      ]
    },
    {
      "cell_type": "code",
      "metadata": {
        "id": "CgoD1geAJJ4n",
        "colab_type": "code",
        "colab": {}
      },
      "source": [
        "tfidf = TfidfVectorizer(max_df=1.0, min_df=1, stop_words=\"english\")#in this model we use the default values of min max"
      ],
      "execution_count": 0,
      "outputs": []
    },
    {
      "cell_type": "code",
      "metadata": {
        "id": "psasKWbFJJ7E",
        "colab_type": "code",
        "colab": {}
      },
      "source": [
        "dtm_with_tfidf = tfidf.fit_transform(dataframe[\"questions\"])#as same we do it in LDA"
      ],
      "execution_count": 0,
      "outputs": []
    },
    {
      "cell_type": "code",
      "metadata": {
        "id": "rvYchtJGJKAa",
        "colab_type": "code",
        "colab": {
          "base_uri": "https://localhost:8080/",
          "height": 51
        },
        "outputId": "576d77c4-dffe-4119-e760-54de464c30b9"
      },
      "source": [
        "dtm_with_tfidf"
      ],
      "execution_count": 145,
      "outputs": [
        {
          "output_type": "execute_result",
          "data": {
            "text/plain": [
              "<200000x50470 sparse matrix of type '<class 'numpy.float64'>'\n",
              "\twith 1004332 stored elements in Compressed Sparse Row format>"
            ]
          },
          "metadata": {
            "tags": []
          },
          "execution_count": 145
        }
      ]
    },
    {
      "cell_type": "code",
      "metadata": {
        "id": "E4nVI1M4JKDR",
        "colab_type": "code",
        "colab": {}
      },
      "source": [
        "from sklearn.decomposition import NMF #IMPORT the model from sklearn"
      ],
      "execution_count": 0,
      "outputs": []
    },
    {
      "cell_type": "code",
      "metadata": {
        "id": "MAPqdVJEJKGB",
        "colab_type": "code",
        "colab": {}
      },
      "source": [
        "nmf_model = NMF(n_components=15, random_state=1)#we added 15 topic components this time"
      ],
      "execution_count": 0,
      "outputs": []
    },
    {
      "cell_type": "code",
      "metadata": {
        "id": "uhDx64wrJKOR",
        "colab_type": "code",
        "colab": {
          "base_uri": "https://localhost:8080/",
          "height": 68
        },
        "outputId": "9af4db57-9fca-4e96-fff2-56d2a1bcc04a"
      },
      "source": [
        "nmf_model.fit(dtm_with_tfidf)"
      ],
      "execution_count": 148,
      "outputs": [
        {
          "output_type": "execute_result",
          "data": {
            "text/plain": [
              "NMF(alpha=0.0, beta_loss='frobenius', init=None, l1_ratio=0.0, max_iter=200,\n",
              "    n_components=15, random_state=1, shuffle=False, solver='cd', tol=0.0001,\n",
              "    verbose=0)"
            ]
          },
          "metadata": {
            "tags": []
          },
          "execution_count": 148
        }
      ]
    },
    {
      "cell_type": "code",
      "metadata": {
        "id": "ABGFbqIGJKJZ",
        "colab_type": "code",
        "colab": {
          "base_uri": "https://localhost:8080/",
          "height": 802
        },
        "outputId": "a03df2e3-67bc-4ea5-ae59-6f92ce9db47b"
      },
      "source": [
        "word_list = []\n",
        "probability_list = []\n",
        "\n",
        "top_number = 20\n",
        "count = 0\n",
        "for probability_number in nmf_model.components_: # model.components contains the prob of each word for each doc\n",
        "    text_message = f\"Top words for topic {count} are : \"\n",
        "    print(text_message)    \n",
        "    for number in probability_number.argsort()[-top_number:]: # we're only interested in the top words\n",
        "        print([tfidf.get_feature_names()[number]], end= \"\")\n",
        "        word_list.append([tfidf.get_feature_names()[number]])\n",
        "        probability_list.append(number)\n",
        "    #show_chart(word_list, probability_list, text_message)\n",
        "    print(\"\\n\")  \n",
        "    count += 1"
      ],
      "execution_count": 149,
      "outputs": [
        {
          "output_type": "stream",
          "text": [
            "Top words for topic 0 are : \n",
            "['hollywood']['read']['site']['thing']['place']['website']['visit']['time']['ways']['places']['phone']['buy']['laptop']['movie']['2016']['books']['book']['movies']['way']['best']\n",
            "\n",
            "Top words for topic 1 are : \n",
            "['need']['says']['universities']['use']['grads']['majors']['differ']['recruit']['looking']['sex']['really']['exist']['compare']['cost']['time']['long']['feel']['work']['mean']['does']\n",
            "\n",
            "Top words for topic 2 are : \n",
            "['users']['search']['marked']['follow']['use']['add']['answered']['post']['needing']['easily']['improvement']['delete']['asked']['google']['answers']['answer']['ask']['question']['questions']['quora']\n",
            "\n",
            "Top words for topic 3 are : \n",
            "['website']['using']['facebook']['friends']['making']['investment']['job']['internet']['black']['free']['easiest']['easy']['home']['youtube']['ways']['way']['earn']['online']['make']['money']\n",
            "\n",
            "Top words for topic 4 are : \n",
            "['happy']['decision']['planets']['balance']['things']['did']['death']['earth']['live']['changed']['want']['change']['day']['moment']['real']['thing']['important']['meaning']['purpose']['life']\n",
            "\n",
            "Top words for topic 5 are : \n",
            "['won']['wins']['usa']['elections']['america']['presidency']['happen']['think']['presidential']['2016']['vote']['better']['election']['win']['did']['hillary']['president']['clinton']['donald']['trump']\n",
            "\n",
            "Top words for topic 6 are : \n",
            "['web']['beginner']['new']['computer']['machine']['english']['beginners']['hacking']['coding']['want']['did']['python']['languages']['java']['learning']['way']['start']['language']['programming']['learn']\n",
            "\n",
            "Top words for topic 7 are : \n",
            "['say']['instagram']['earth']['chinese']['stop']['use']['blowing']['care']['easily']['mind']['flat']['google']['questions']['world']['believe']['hate']['ask']['don']['think']['people']\n",
            "\n",
            "Top words for topic 8 are : \n",
            "['demonetization']['scope']['prime']['buy']['company']['engineering']['minister']['happen']['available']['china']['business']['job']['olympics']['spotify']['start']['country']['world']['war']['pakistan']['india']\n",
            "\n",
            "Top words for topic 9 are : \n",
            "['job']['different']['don']['companies']['time']['guys']['indian']['guy']['men']['culture']['girls']['women']['work']['live']['world']['look']['girl']['sex']['feel']['like']\n",
            "\n",
            "Top words for topic 10 are : \n",
            "['balance']['departments']['year']['positions']['learning']['software']['songs']['book']['business']['movies']['start']['work']['read']['job']['engineering']['bad']['ways']['time']['books']['good']\n",
            "\n",
            "Top words for topic 11 are : \n",
            "['decision']['rupees']['help']['new']['modi']['money']['2000']['currency']['think']['government']['economy']['ban']['banning']['black']['indian']['rupee']['rs']['1000']['notes']['500']\n",
            "\n",
            "Top words for topic 12 are : \n",
            "['ability']['enhance']['words']['fluency']['better']['vocabulary']['fluent']['skill']['spoken']['language']['ways']['fluently']['communication']['speak']['pronunciation']['speaking']['writing']['skills']['improve']['english']\n",
            "\n",
            "Top words for topic 13 are : \n",
            "['mind']['2017']['likes']['difference']['really']['travel']['person']['possible']['year']['fall']['girl']['don']['employees']['going']['day']['time']['new']['things']['love']['know']\n",
            "\n",
            "Top words for topic 14 are : \n",
            "['belly']['losing']['doing']['diet']['safely']['help']['reduce']['healthy']['pounds']['month']['exercise']['quickly']['loss']['fat']['fast']['ways']['way']['gain']['lose']['weight']\n",
            "\n"
          ],
          "name": "stdout"
        }
      ]
    },
    {
      "cell_type": "markdown",
      "metadata": {
        "id": "7WbOmMNlI1Ko",
        "colab_type": "text"
      },
      "source": [
        "From the above output we can see that topic 14 related to Medicine and Healthcare. topic 12 related to Literature, Languages, and Communication 11 is related to Goverment politics. now we see these word lists are related to each other so we add the relevant topic number into the original dataframe."
      ]
    },
    {
      "cell_type": "code",
      "metadata": {
        "id": "_0i3u41fKj1b",
        "colab_type": "code",
        "colab": {}
      },
      "source": [
        "textfile_topics = nmf_model.transform(dtm_with_tfidf)"
      ],
      "execution_count": 0,
      "outputs": []
    },
    {
      "cell_type": "code",
      "metadata": {
        "id": "jFCHz2AFJJ-I",
        "colab_type": "code",
        "colab": {}
      },
      "source": [
        "\n",
        "topic_list = []\n",
        "# Textfile_topics is a list of arrays containing \n",
        "# all index positions of words for each textfile\n",
        "for popular_index_pos in textfile_topics:\n",
        "    # Get the max index position in each array\n",
        "    # and add to the topic_list list\n",
        "    topic_list.append(popular_index_pos.argmax())\n",
        "\n",
        "# Add a new column to the dataframe\n",
        "dataframe[\"Topic number\"] = topic_list"
      ],
      "execution_count": 0,
      "outputs": []
    },
    {
      "cell_type": "code",
      "metadata": {
        "id": "4GlKiKHUJJ2i",
        "colab_type": "code",
        "colab": {
          "base_uri": "https://localhost:8080/",
          "height": 419
        },
        "outputId": "fa2f82ce-05b2-40f7-ee39-d76958d04b83"
      },
      "source": [
        "dataframe"
      ],
      "execution_count": 152,
      "outputs": [
        {
          "output_type": "execute_result",
          "data": {
            "text/html": [
              "<div>\n",
              "<style scoped>\n",
              "    .dataframe tbody tr th:only-of-type {\n",
              "        vertical-align: middle;\n",
              "    }\n",
              "\n",
              "    .dataframe tbody tr th {\n",
              "        vertical-align: top;\n",
              "    }\n",
              "\n",
              "    .dataframe thead th {\n",
              "        text-align: right;\n",
              "    }\n",
              "</style>\n",
              "<table border=\"1\" class=\"dataframe\">\n",
              "  <thead>\n",
              "    <tr style=\"text-align: right;\">\n",
              "      <th></th>\n",
              "      <th>questions</th>\n",
              "      <th>Topic number</th>\n",
              "    </tr>\n",
              "  </thead>\n",
              "  <tbody>\n",
              "    <tr>\n",
              "      <th>0</th>\n",
              "      <td>What is the step by step guide to invest in sh...</td>\n",
              "      <td>8</td>\n",
              "    </tr>\n",
              "    <tr>\n",
              "      <th>1</th>\n",
              "      <td>What is the story of Kohinoor (Koh-i-Noor) Dia...</td>\n",
              "      <td>13</td>\n",
              "    </tr>\n",
              "    <tr>\n",
              "      <th>2</th>\n",
              "      <td>How can I increase the speed of my internet co...</td>\n",
              "      <td>3</td>\n",
              "    </tr>\n",
              "    <tr>\n",
              "      <th>3</th>\n",
              "      <td>Why am I mentally very lonely? How can I solve...</td>\n",
              "      <td>11</td>\n",
              "    </tr>\n",
              "    <tr>\n",
              "      <th>4</th>\n",
              "      <td>Which one dissolve in water quikly sugar, salt...</td>\n",
              "      <td>14</td>\n",
              "    </tr>\n",
              "    <tr>\n",
              "      <th>...</th>\n",
              "      <td>...</td>\n",
              "      <td>...</td>\n",
              "    </tr>\n",
              "    <tr>\n",
              "      <th>199995</th>\n",
              "      <td>Why was the Battle of Vimy Ridge so important?</td>\n",
              "      <td>4</td>\n",
              "    </tr>\n",
              "    <tr>\n",
              "      <th>199996</th>\n",
              "      <td>Which of these TV shows should I watch next?</td>\n",
              "      <td>0</td>\n",
              "    </tr>\n",
              "    <tr>\n",
              "      <th>199997</th>\n",
              "      <td>Should I change my name?</td>\n",
              "      <td>4</td>\n",
              "    </tr>\n",
              "    <tr>\n",
              "      <th>199998</th>\n",
              "      <td>Should I buy the new MacBook 2016 or one from ...</td>\n",
              "      <td>13</td>\n",
              "    </tr>\n",
              "    <tr>\n",
              "      <th>199999</th>\n",
              "      <td>What is your review of Love (2011 movie)?</td>\n",
              "      <td>13</td>\n",
              "    </tr>\n",
              "  </tbody>\n",
              "</table>\n",
              "<p>200000 rows × 2 columns</p>\n",
              "</div>"
            ],
            "text/plain": [
              "                                                questions  Topic number\n",
              "0       What is the step by step guide to invest in sh...             8\n",
              "1       What is the story of Kohinoor (Koh-i-Noor) Dia...            13\n",
              "2       How can I increase the speed of my internet co...             3\n",
              "3       Why am I mentally very lonely? How can I solve...            11\n",
              "4       Which one dissolve in water quikly sugar, salt...            14\n",
              "...                                                   ...           ...\n",
              "199995     Why was the Battle of Vimy Ridge so important?             4\n",
              "199996       Which of these TV shows should I watch next?             0\n",
              "199997                           Should I change my name?             4\n",
              "199998  Should I buy the new MacBook 2016 or one from ...            13\n",
              "199999          What is your review of Love (2011 movie)?            13\n",
              "\n",
              "[200000 rows x 2 columns]"
            ]
          },
          "metadata": {
            "tags": []
          },
          "execution_count": 152
        }
      ]
    },
    {
      "cell_type": "code",
      "metadata": {
        "id": "uXr3aN65K-AE",
        "colab_type": "code",
        "colab": {}
      },
      "source": [
        "topic_list = {0: \"News, Entertainment, and Pop Culture\", \n",
        "              1: \"horoscopes\", \n",
        "              2: \"Life, Relationships, and Self\", \n",
        "              3: \"Education, Schools, and Learning\", \n",
        "              4: \"Recreation, Sports, Travel, and Activities\", \n",
        "              5: \"Humanities\", \n",
        "              6: \"Science, Technology, Engineering, and Mathematics\", \n",
        "              7: \"Business, Work, and Careers\", \n",
        "              8: \"Art, Design, and Style\", \n",
        "              9: \"Honours and Recognition\", \n",
        "              10: \"Food, Cuisines, and Cooking\", \n",
        "              11: \"Politics, Law, Government, and Judiciary\", \n",
        "              12: \"Literature, Languages, and Communication\", \n",
        "              13: \"Major Concepts\", \n",
        "              14: \"Medicine and Healthcare\"}\n",
        "\n"
      ],
      "execution_count": 0,
      "outputs": []
    },
    {
      "cell_type": "code",
      "metadata": {
        "id": "7ne9emhPLA3Q",
        "colab_type": "code",
        "colab": {}
      },
      "source": [
        "topic_no_to_topic = dataframe[\"Topic number\"].map(topic_list)"
      ],
      "execution_count": 0,
      "outputs": []
    },
    {
      "cell_type": "code",
      "metadata": {
        "id": "-i4JbVPWLA8K",
        "colab_type": "code",
        "colab": {}
      },
      "source": [
        "dataframe[\"Topic desc\"] = topic_no_to_topic\n"
      ],
      "execution_count": 0,
      "outputs": []
    },
    {
      "cell_type": "code",
      "metadata": {
        "id": "_bObdwiPLA_A",
        "colab_type": "code",
        "colab": {
          "base_uri": "https://localhost:8080/",
          "height": 669
        },
        "outputId": "ec931919-08c7-41d1-db75-6022fa81afc4"
      },
      "source": [
        "\n",
        "dataframe.head(20)"
      ],
      "execution_count": 156,
      "outputs": [
        {
          "output_type": "execute_result",
          "data": {
            "text/html": [
              "<div>\n",
              "<style scoped>\n",
              "    .dataframe tbody tr th:only-of-type {\n",
              "        vertical-align: middle;\n",
              "    }\n",
              "\n",
              "    .dataframe tbody tr th {\n",
              "        vertical-align: top;\n",
              "    }\n",
              "\n",
              "    .dataframe thead th {\n",
              "        text-align: right;\n",
              "    }\n",
              "</style>\n",
              "<table border=\"1\" class=\"dataframe\">\n",
              "  <thead>\n",
              "    <tr style=\"text-align: right;\">\n",
              "      <th></th>\n",
              "      <th>questions</th>\n",
              "      <th>Topic number</th>\n",
              "      <th>Topic desc</th>\n",
              "    </tr>\n",
              "  </thead>\n",
              "  <tbody>\n",
              "    <tr>\n",
              "      <th>0</th>\n",
              "      <td>What is the step by step guide to invest in sh...</td>\n",
              "      <td>8</td>\n",
              "      <td>Art, Design, and Style</td>\n",
              "    </tr>\n",
              "    <tr>\n",
              "      <th>1</th>\n",
              "      <td>What is the story of Kohinoor (Koh-i-Noor) Dia...</td>\n",
              "      <td>13</td>\n",
              "      <td>Major Concepts</td>\n",
              "    </tr>\n",
              "    <tr>\n",
              "      <th>2</th>\n",
              "      <td>How can I increase the speed of my internet co...</td>\n",
              "      <td>3</td>\n",
              "      <td>Education, Schools, and Learning</td>\n",
              "    </tr>\n",
              "    <tr>\n",
              "      <th>3</th>\n",
              "      <td>Why am I mentally very lonely? How can I solve...</td>\n",
              "      <td>11</td>\n",
              "      <td>Politics, Law, Government, and Judiciary</td>\n",
              "    </tr>\n",
              "    <tr>\n",
              "      <th>4</th>\n",
              "      <td>Which one dissolve in water quikly sugar, salt...</td>\n",
              "      <td>14</td>\n",
              "      <td>Medicine and Healthcare</td>\n",
              "    </tr>\n",
              "    <tr>\n",
              "      <th>5</th>\n",
              "      <td>Astrology: I am a Capricorn Sun Cap moon and c...</td>\n",
              "      <td>1</td>\n",
              "      <td>horoscopes</td>\n",
              "    </tr>\n",
              "    <tr>\n",
              "      <th>6</th>\n",
              "      <td>Should I buy tiago?</td>\n",
              "      <td>0</td>\n",
              "      <td>News, Entertainment, and Pop Culture</td>\n",
              "    </tr>\n",
              "    <tr>\n",
              "      <th>7</th>\n",
              "      <td>How can I be a good geologist?</td>\n",
              "      <td>10</td>\n",
              "      <td>Food, Cuisines, and Cooking</td>\n",
              "    </tr>\n",
              "    <tr>\n",
              "      <th>8</th>\n",
              "      <td>When do you use ã‚· instead of ã—?</td>\n",
              "      <td>7</td>\n",
              "      <td>Business, Work, and Careers</td>\n",
              "    </tr>\n",
              "    <tr>\n",
              "      <th>9</th>\n",
              "      <td>Motorola (company): Can I hack my Charter Moto...</td>\n",
              "      <td>8</td>\n",
              "      <td>Art, Design, and Style</td>\n",
              "    </tr>\n",
              "    <tr>\n",
              "      <th>10</th>\n",
              "      <td>Method to find separation of slits using fresn...</td>\n",
              "      <td>2</td>\n",
              "      <td>Life, Relationships, and Self</td>\n",
              "    </tr>\n",
              "    <tr>\n",
              "      <th>11</th>\n",
              "      <td>How do I read and find my YouTube comments?</td>\n",
              "      <td>3</td>\n",
              "      <td>Education, Schools, and Learning</td>\n",
              "    </tr>\n",
              "    <tr>\n",
              "      <th>12</th>\n",
              "      <td>What can make Physics easy to learn?</td>\n",
              "      <td>3</td>\n",
              "      <td>Education, Schools, and Learning</td>\n",
              "    </tr>\n",
              "    <tr>\n",
              "      <th>13</th>\n",
              "      <td>What was your first sexual experience like?</td>\n",
              "      <td>9</td>\n",
              "      <td>Honours and Recognition</td>\n",
              "    </tr>\n",
              "    <tr>\n",
              "      <th>14</th>\n",
              "      <td>What are the laws to change your status from a...</td>\n",
              "      <td>1</td>\n",
              "      <td>horoscopes</td>\n",
              "    </tr>\n",
              "    <tr>\n",
              "      <th>15</th>\n",
              "      <td>What would a Trump presidency mean for current...</td>\n",
              "      <td>5</td>\n",
              "      <td>Humanities</td>\n",
              "    </tr>\n",
              "    <tr>\n",
              "      <th>16</th>\n",
              "      <td>What does manipulation mean?</td>\n",
              "      <td>1</td>\n",
              "      <td>horoscopes</td>\n",
              "    </tr>\n",
              "    <tr>\n",
              "      <th>17</th>\n",
              "      <td>Why do girls want to be friends with the guy t...</td>\n",
              "      <td>9</td>\n",
              "      <td>Honours and Recognition</td>\n",
              "    </tr>\n",
              "    <tr>\n",
              "      <th>18</th>\n",
              "      <td>Why are so many Quora users posting questions ...</td>\n",
              "      <td>2</td>\n",
              "      <td>Life, Relationships, and Self</td>\n",
              "    </tr>\n",
              "    <tr>\n",
              "      <th>19</th>\n",
              "      <td>Which is the best digital marketing institutio...</td>\n",
              "      <td>0</td>\n",
              "      <td>News, Entertainment, and Pop Culture</td>\n",
              "    </tr>\n",
              "  </tbody>\n",
              "</table>\n",
              "</div>"
            ],
            "text/plain": [
              "                                            questions  ...                                Topic desc\n",
              "0   What is the step by step guide to invest in sh...  ...                    Art, Design, and Style\n",
              "1   What is the story of Kohinoor (Koh-i-Noor) Dia...  ...                            Major Concepts\n",
              "2   How can I increase the speed of my internet co...  ...          Education, Schools, and Learning\n",
              "3   Why am I mentally very lonely? How can I solve...  ...  Politics, Law, Government, and Judiciary\n",
              "4   Which one dissolve in water quikly sugar, salt...  ...                   Medicine and Healthcare\n",
              "5   Astrology: I am a Capricorn Sun Cap moon and c...  ...                                horoscopes\n",
              "6                                 Should I buy tiago?  ...      News, Entertainment, and Pop Culture\n",
              "7                      How can I be a good geologist?  ...               Food, Cuisines, and Cooking\n",
              "8                 When do you use ã‚· instead of ã—?  ...               Business, Work, and Careers\n",
              "9   Motorola (company): Can I hack my Charter Moto...  ...                    Art, Design, and Style\n",
              "10  Method to find separation of slits using fresn...  ...             Life, Relationships, and Self\n",
              "11        How do I read and find my YouTube comments?  ...          Education, Schools, and Learning\n",
              "12               What can make Physics easy to learn?  ...          Education, Schools, and Learning\n",
              "13        What was your first sexual experience like?  ...                   Honours and Recognition\n",
              "14  What are the laws to change your status from a...  ...                                horoscopes\n",
              "15  What would a Trump presidency mean for current...  ...                                Humanities\n",
              "16                       What does manipulation mean?  ...                                horoscopes\n",
              "17  Why do girls want to be friends with the guy t...  ...                   Honours and Recognition\n",
              "18  Why are so many Quora users posting questions ...  ...             Life, Relationships, and Self\n",
              "19  Which is the best digital marketing institutio...  ...      News, Entertainment, and Pop Culture\n",
              "\n",
              "[20 rows x 3 columns]"
            ]
          },
          "metadata": {
            "tags": []
          },
          "execution_count": 156
        }
      ]
    },
    {
      "cell_type": "code",
      "metadata": {
        "id": "vselosVHLBB7",
        "colab_type": "code",
        "colab": {}
      },
      "source": [
        "dataframe.to_csv('quora_supervised.csv')#transform the result into quora_supervised dataset to use it into another question."
      ],
      "execution_count": 0,
      "outputs": []
    },
    {
      "cell_type": "markdown",
      "metadata": {
        "id": "lhwLrerDLOmk",
        "colab_type": "text"
      },
      "source": [
        "References:\n",
        "\n"
      ]
    }
  ]
}